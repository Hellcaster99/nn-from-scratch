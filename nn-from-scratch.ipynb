{
 "cells": [
  {
   "cell_type": "code",
   "execution_count": 1,
   "id": "8357c460-2c65-43ed-9af5-21aab43d2a0d",
   "metadata": {},
   "outputs": [],
   "source": [
    "import pandas as pd\n",
    "import numpy as np"
   ]
  },
  {
   "cell_type": "code",
   "execution_count": 6,
   "id": "b3b32b9b-b877-400d-bbcf-338557618508",
   "metadata": {
    "tags": []
   },
   "outputs": [],
   "source": [
    "class Activation:\n",
    "    def __init__(self, func):\n",
    "        self.__func = func\n",
    "    \n",
    "    def activate(self, X):\n",
    "        if self.__func == \"relu\":\n",
    "            return np.maximum(0, X)\n",
    "        elif self.__func == \"softmax\":\n",
    "            exp_values = np.exp(X - np.max(X, axis=1, keepdims=True))\n",
    "            return exp_values / np.sum(exp_values, axis=1, keepdims=True)\n",
    "        else:\n",
    "            return X\n",
    "    \n",
    "    def activate_derivative(self, X):\n",
    "        if self.__func == \"relu\":\n",
    "            return np.where(X > 0, 1, 0)\n",
    "        elif self.__func == \"softmax\":\n",
    "            return X\n",
    "        else:  # no activation\n",
    "            return np.ones_like(X)"
   ]
  },
  {
   "cell_type": "code",
   "execution_count": 7,
   "id": "77f89e36-d250-4671-ab65-bef72dceb790",
   "metadata": {
    "tags": []
   },
   "outputs": [],
   "source": [
    "class Layer:\n",
    "    def __init__(self, output_size, input_size, activation=\"none\"):\n",
    "        self.weights = np.random.rand(output_size, input_size)\n",
    "        self.bias = np.random.rand(output_size, 1)\n",
    "        self.__activation = Activation(activation)\n",
    "    \n",
    "    def activate(self, X):\n",
    "        return self.__activation.activate(X)\n",
    "    \n",
    "    def activation_derivative(self):\n",
    "        return self.__activation.activate_derivative(self.output)"
   ]
  },
  {
   "cell_type": "code",
   "execution_count": 485,
   "id": "9796e257-c34b-4b0f-8ad8-7a6d3fa59a1f",
   "metadata": {
    "tags": []
   },
   "outputs": [],
   "source": [
    "class Dense(Layer):\n",
    "    def __init__(self,output_size, input_size, activation=\"none\"):\n",
    "        Layer.__init__(self, output_size, input_size, activation)\n",
    "    \n",
    "    def forward_pass(self, data):\n",
    "        self.input = np.array(data)\n",
    "        self.output = self.activate(np.dot(self.weights, self.input) + self.bias) # -- activation\n",
    "        # self.output = np.dot(self.weights, self.input) + self.bias # -- no activation\n",
    "        return self.output\n",
    "    \n",
    "    def backward_pass(self, loss_gradient, learning_rate):\n",
    "        activation_gradient = self.activation_derivative()\n",
    "        output_gradient = loss_gradient * activation_gradient\n",
    "        \n",
    "        weights_gradient = np.dot(output_gradient, self.input.T)\n",
    "        \n",
    "        self.weights -= learning_rate * weights_gradient\n",
    "        self.bias -= learning_rate * np.sum(output_gradient, axis=1, keepdims=True)\n",
    "        \n",
    "        input_gradient = np.dot(self.weights.T, output_gradient)\n",
    "        return input_gradient"
   ]
  },
  {
   "cell_type": "code",
   "execution_count": 489,
   "id": "a06753b9-e5b4-4946-a4c4-9f1873c815f5",
   "metadata": {
    "tags": []
   },
   "outputs": [],
   "source": [
    "class Sequential:\n",
    "    def __init__(self):\n",
    "        self.__layers = []\n",
    "    \n",
    "    def add(self, layer):\n",
    "        self.__layers.append(layer)\n",
    "        \n",
    "    def forward_pass(self, data):\n",
    "        output = data\n",
    "        for layer in self.__layers:\n",
    "            output = layer.forward_pass(output)\n",
    "        return output\n",
    "    \n",
    "    def backward_pass(self, loss_gradient, learning_rate):\n",
    "        for layer in reversed(self.__layers):\n",
    "            loss_gradient = layer.backward_pass(loss_gradient, learning_rate)\n",
    "    \n",
    "    def compile_(self, loss):\n",
    "        self.__loss = loss\n",
    "    \n",
    "    def fit(self, X, Y, epochs, learning_rate):\n",
    "        X = np.array(X)\n",
    "        Y = np.array(Y)\n",
    "        for epoch in range(1,epochs+1):\n",
    "            output = self.forward_pass(X)\n",
    "            loss_gradient = self.__loss.gradient(output, Y)\n",
    "            self.backward_pass(loss_gradient, learning_rate)\n",
    "            loss_value = self.__loss.calculate(output, Y)\n",
    "            if epoch % 100 == 0:\n",
    "                print(f\"Epoch {epoch}/{epochs}, Loss: {loss_value}\")\n",
    "    \n",
    "    def predict(self, X):\n",
    "        X = np.array(X)\n",
    "        pred = self.forward_pass(X.T)\n",
    "        res = np.mean(pred, axis=0)\n",
    "        return [round(i) for i in res]\n",
    "    \n",
    "    def coef(self):\n",
    "        return self.__layers[-1].weights, self.__layers[-1].bias"
   ]
  },
  {
   "cell_type": "code",
   "execution_count": 19,
   "id": "8ea7c128-79db-43fd-bfdb-50dadcea73f3",
   "metadata": {
    "tags": []
   },
   "outputs": [],
   "source": [
    "class Loss:\n",
    "    def calculate(self, output, y):\n",
    "        raise NotImplementedError\n",
    "    \n",
    "    def gradient(self, output, y):\n",
    "        raise NotImplementedError"
   ]
  },
  {
   "cell_type": "code",
   "execution_count": 447,
   "id": "b483229b-4f5a-45cb-a99d-eaaf482edb83",
   "metadata": {
    "tags": []
   },
   "outputs": [],
   "source": [
    "class MSE(Loss):\n",
    "    def calculate(self, output, Y):\n",
    "        n_samples = output.shape[1]\n",
    "        loss = np.mean(np.mean((output - Y)**2 / 2, axis=1))\n",
    "        return loss\n",
    "    \n",
    "    def gradient(self, output, Y):\n",
    "        n_samples = output.shape[1]\n",
    "        loss_gradient = (output - Y)/n_samples\n",
    "        return loss_gradient"
   ]
  },
  {
   "cell_type": "code",
   "execution_count": 583,
   "id": "95d5b44f-4e1e-490a-84be-db83d033f338",
   "metadata": {
    "tags": []
   },
   "outputs": [],
   "source": [
    "def generate_random_samples(n_samples, a, b):\n",
    "    # Generating random values for the first three columns\n",
    "    return np.random.randint(a, b, size=(n_samples, 3))\n",
    "    \n",
    "# random_samples = generate_random_samples(10000, 0, 100)\n",
    "# data = pd.DataFrame(random_samples, columns=['x','y','z'])\n",
    "# data['target'] = data['x'] + 2 * data['y'] + 3 * data['z']"
   ]
  },
  {
   "cell_type": "code",
   "execution_count": 445,
   "id": "aa6999b7-8b91-4134-8e3e-e32d6fedf474",
   "metadata": {
    "tags": []
   },
   "outputs": [],
   "source": [
    "# data.to_csv('data/numbers.csv', index = False)"
   ]
  },
  {
   "cell_type": "code",
   "execution_count": 365,
   "id": "3d1679a8-2537-402c-a33b-33efe62bef61",
   "metadata": {
    "tags": []
   },
   "outputs": [
    {
     "data": {
      "text/html": [
       "<div>\n",
       "<style scoped>\n",
       "    .dataframe tbody tr th:only-of-type {\n",
       "        vertical-align: middle;\n",
       "    }\n",
       "\n",
       "    .dataframe tbody tr th {\n",
       "        vertical-align: top;\n",
       "    }\n",
       "\n",
       "    .dataframe thead th {\n",
       "        text-align: right;\n",
       "    }\n",
       "</style>\n",
       "<table border=\"1\" class=\"dataframe\">\n",
       "  <thead>\n",
       "    <tr style=\"text-align: right;\">\n",
       "      <th></th>\n",
       "      <th>x</th>\n",
       "      <th>y</th>\n",
       "      <th>z</th>\n",
       "      <th>target</th>\n",
       "    </tr>\n",
       "  </thead>\n",
       "  <tbody>\n",
       "    <tr>\n",
       "      <th>0</th>\n",
       "      <td>33</td>\n",
       "      <td>10</td>\n",
       "      <td>98</td>\n",
       "      <td>347</td>\n",
       "    </tr>\n",
       "    <tr>\n",
       "      <th>1</th>\n",
       "      <td>20</td>\n",
       "      <td>80</td>\n",
       "      <td>56</td>\n",
       "      <td>348</td>\n",
       "    </tr>\n",
       "    <tr>\n",
       "      <th>2</th>\n",
       "      <td>24</td>\n",
       "      <td>94</td>\n",
       "      <td>97</td>\n",
       "      <td>503</td>\n",
       "    </tr>\n",
       "    <tr>\n",
       "      <th>3</th>\n",
       "      <td>87</td>\n",
       "      <td>44</td>\n",
       "      <td>41</td>\n",
       "      <td>298</td>\n",
       "    </tr>\n",
       "    <tr>\n",
       "      <th>4</th>\n",
       "      <td>42</td>\n",
       "      <td>94</td>\n",
       "      <td>43</td>\n",
       "      <td>359</td>\n",
       "    </tr>\n",
       "  </tbody>\n",
       "</table>\n",
       "</div>"
      ],
      "text/plain": [
       "    x   y   z  target\n",
       "0  33  10  98     347\n",
       "1  20  80  56     348\n",
       "2  24  94  97     503\n",
       "3  87  44  41     298\n",
       "4  42  94  43     359"
      ]
     },
     "execution_count": 365,
     "metadata": {},
     "output_type": "execute_result"
    }
   ],
   "source": [
    "data = pd.read_csv('data/numbers.csv')\n",
    "data.head()"
   ]
  },
  {
   "cell_type": "code",
   "execution_count": 366,
   "id": "23e6ec43-900d-46e6-b2db-f7b7412ba8fd",
   "metadata": {
    "tags": []
   },
   "outputs": [
    {
     "data": {
      "text/plain": [
       "(10000, 4)"
      ]
     },
     "execution_count": 366,
     "metadata": {},
     "output_type": "execute_result"
    }
   ],
   "source": [
    "data.shape"
   ]
  },
  {
   "cell_type": "code",
   "execution_count": 367,
   "id": "7bd87be8-9c63-4ced-a6ba-c13e51cde8de",
   "metadata": {
    "tags": []
   },
   "outputs": [],
   "source": [
    "Y = np.array(data.target)\n",
    "X = np.array(data.drop('target',axis=1))"
   ]
  },
  {
   "cell_type": "code",
   "execution_count": 401,
   "id": "04e8370b-b95f-4840-9b81-98d906b25424",
   "metadata": {
    "tags": []
   },
   "outputs": [],
   "source": [
    "X_train, X_test, Y_train, Y_test = X[:9000], X[9000:], Y[:9000], Y[9000:]"
   ]
  },
  {
   "cell_type": "code",
   "execution_count": 469,
   "id": "a4f80b03-47fb-4204-9315-3143b458981a",
   "metadata": {
    "tags": []
   },
   "outputs": [],
   "source": [
    "model = Sequential()\n",
    "model.add(Dense(4,3,activation=\"relu\"))\n",
    "model.add(Dense(3,4,activation=\"relu\"))\n",
    "model.compile_(MSE())"
   ]
  },
  {
   "cell_type": "code",
   "execution_count": 470,
   "id": "944ea7f5-0fe4-4045-be52-d493a474401f",
   "metadata": {
    "tags": []
   },
   "outputs": [
    {
     "name": "stdout",
     "output_type": "stream",
     "text": [
      "Epoch 100/10000, Loss: 3.7233930340060817\n",
      "Epoch 200/10000, Loss: 1.7987099391084687\n",
      "Epoch 300/10000, Loss: 1.0225569711195213\n",
      "Epoch 400/10000, Loss: 0.6695811978423657\n",
      "Epoch 500/10000, Loss: 0.4929298557696895\n",
      "Epoch 600/10000, Loss: 0.3955780919202437\n",
      "Epoch 700/10000, Loss: 0.33630720270932596\n",
      "Epoch 800/10000, Loss: 0.29663810880942715\n",
      "Epoch 900/10000, Loss: 0.2678812183695584\n",
      "Epoch 1000/10000, Loss: 0.24573458539059767\n",
      "Epoch 1100/10000, Loss: 0.22793614904653395\n",
      "Epoch 1200/10000, Loss: 0.21321058024735828\n",
      "Epoch 1300/10000, Loss: 0.20078281559939304\n",
      "Epoch 1400/10000, Loss: 0.19014611974996756\n",
      "Epoch 1500/10000, Loss: 0.18094727521334664\n",
      "Epoch 1600/10000, Loss: 0.17292709662890982\n",
      "Epoch 1700/10000, Loss: 0.16588789116649574\n",
      "Epoch 1800/10000, Loss: 0.15967454385579027\n",
      "Epoch 1900/10000, Loss: 0.15416281217881436\n",
      "Epoch 2000/10000, Loss: 0.1492516422388758\n",
      "Epoch 2100/10000, Loss: 0.14485786109183332\n",
      "Epoch 2200/10000, Loss: 0.1409123563816873\n",
      "Epoch 2300/10000, Loss: 0.1373572377350726\n",
      "Epoch 2400/10000, Loss: 0.13414367631963958\n",
      "Epoch 2500/10000, Loss: 0.13123023032534428\n",
      "Epoch 2600/10000, Loss: 0.12858152867568665\n",
      "Epoch 2700/10000, Loss: 0.1261672246538231\n",
      "Epoch 2800/10000, Loss: 0.1239611563456326\n",
      "Epoch 2900/10000, Loss: 0.1219406676579244\n",
      "Epoch 3000/10000, Loss: 0.12008605534887944\n",
      "Epoch 3100/10000, Loss: 0.11838011583566144\n",
      "Epoch 3200/10000, Loss: 0.11680777161902166\n",
      "Epoch 3300/10000, Loss: 0.11535576167507955\n",
      "Epoch 3400/10000, Loss: 0.11401238356102533\n",
      "Epoch 3500/10000, Loss: 0.11276727756878173\n",
      "Epoch 3600/10000, Loss: 0.11161124525027699\n",
      "Epoch 3700/10000, Loss: 0.1105360961806935\n",
      "Epoch 3800/10000, Loss: 0.10953451803091463\n",
      "Epoch 3900/10000, Loss: 0.10859996596759497\n",
      "Epoch 4000/10000, Loss: 0.10772656814838207\n",
      "Epoch 4100/10000, Loss: 0.10690904467552696\n",
      "Epoch 4200/10000, Loss: 0.10614263784741658\n",
      "Epoch 4300/10000, Loss: 0.10542305193028716\n",
      "Epoch 4400/10000, Loss: 0.10474640098117576\n",
      "Epoch 4500/10000, Loss: 0.10410916350372713\n",
      "Epoch 4600/10000, Loss: 0.10350814292233401\n",
      "Epoch 4700/10000, Loss: 0.10294043302706506\n",
      "Epoch 4800/10000, Loss: 0.10240338767842028\n",
      "Epoch 4900/10000, Loss: 0.10189459417410962\n",
      "Epoch 5000/10000, Loss: 0.10141184977302257\n",
      "Epoch 5100/10000, Loss: 0.10095314094915271\n",
      "Epoch 5200/10000, Loss: 0.10051662501262015\n",
      "Epoch 5300/10000, Loss: 0.10010061378875056\n",
      "Epoch 5400/10000, Loss: 0.09970355909126255\n",
      "Epoch 5500/10000, Loss: 0.09932403976356481\n",
      "Epoch 5600/10000, Loss: 0.09896075009401363\n",
      "Epoch 5700/10000, Loss: 0.09861248943808404\n",
      "Epoch 5800/10000, Loss: 0.09827815290309105\n",
      "Epoch 5900/10000, Loss: 0.09795672297079878\n",
      "Epoch 6000/10000, Loss: 0.0976472619495416\n",
      "Epoch 6100/10000, Loss: 0.09734890516176141\n",
      "Epoch 6200/10000, Loss: 0.09706085478492994\n",
      "Epoch 6300/10000, Loss: 0.09678237427416177\n",
      "Epoch 6400/10000, Loss: 0.09651278330380743\n",
      "Epoch 6500/10000, Loss: 0.09625145317297062\n",
      "Epoch 6600/10000, Loss: 0.09599780262650552\n",
      "Epoch 6700/10000, Loss: 0.0957512940488992\n",
      "Epoch 6800/10000, Loss: 0.09551142999328888\n",
      "Epoch 6900/10000, Loss: 0.09527775001234436\n",
      "Epoch 7000/10000, Loss: 0.09504982776140701\n",
      "Epoch 7100/10000, Loss: 0.09482726834763551\n",
      "Epoch 7200/10000, Loss: 0.0946097059018029\n",
      "Epoch 7300/10000, Loss: 0.09439680135182986\n",
      "Epoch 7400/10000, Loss: 0.09418824037949315\n",
      "Epoch 7500/10000, Loss: 0.09398373154355184\n",
      "Epoch 7600/10000, Loss: 0.09378300455439358\n",
      "Epoch 7700/10000, Loss: 0.0935858086867239\n",
      "Epoch 7800/10000, Loss: 0.09339191131817537\n",
      "Epoch 7900/10000, Loss: 0.09320109658301362\n",
      "Epoch 8000/10000, Loss: 0.0930131641310218\n",
      "Epoch 8100/10000, Loss: 0.0928279279826859\n",
      "Epoch 8200/10000, Loss: 0.09264521547262611\n",
      "Epoch 8300/10000, Loss: 0.09246486627396162\n",
      "Epoch 8400/10000, Loss: 0.09228673149696302\n",
      "Epoch 8500/10000, Loss: 0.09211067285595981\n",
      "Epoch 8600/10000, Loss: 0.0919365618990095\n",
      "Epoch 8700/10000, Loss: 0.09176427929530272\n",
      "Epoch 8800/10000, Loss: 0.09159371417576984\n",
      "Epoch 8900/10000, Loss: 0.0914247635226466\n",
      "Epoch 9000/10000, Loss: 0.0912573316042266\n",
      "Epoch 9100/10000, Loss: 0.09109132945129912\n",
      "Epoch 9200/10000, Loss: 0.0909266743720357\n",
      "Epoch 9300/10000, Loss: 0.09076328950240087\n",
      "Epoch 9400/10000, Loss: 0.09060110338939543\n",
      "Epoch 9500/10000, Loss: 0.09044004960461437\n",
      "Epoch 9600/10000, Loss: 0.09028006638589237\n",
      "Epoch 9700/10000, Loss: 0.09012109630486499\n",
      "Epoch 9800/10000, Loss: 0.08996308595858271\n",
      "Epoch 9900/10000, Loss: 0.08980598568335864\n",
      "Epoch 10000/10000, Loss: 0.0896497492891658\n"
     ]
    }
   ],
   "source": [
    "model.fit(X_train.T, Y_train, epochs=10000, learning_rate=0.00001)"
   ]
  },
  {
   "cell_type": "code",
   "execution_count": 471,
   "id": "30e61a4b-1931-42df-99a5-a71a1a150db1",
   "metadata": {
    "tags": []
   },
   "outputs": [
    {
     "data": {
      "text/plain": [
       "[3202]"
      ]
     },
     "execution_count": 471,
     "metadata": {},
     "output_type": "execute_result"
    }
   ],
   "source": [
    "model.predict([[10,100,1000]]) #answer is 3210"
   ]
  },
  {
   "cell_type": "code",
   "execution_count": 472,
   "id": "bb223a20-4588-469b-81d2-b9ef63b4f575",
   "metadata": {
    "tags": []
   },
   "outputs": [],
   "source": [
    "Y_pred = model.predict(X_test)"
   ]
  },
  {
   "cell_type": "code",
   "execution_count": 425,
   "id": "befa9f81-758d-4433-9e1b-cf930bec2cc7",
   "metadata": {
    "tags": []
   },
   "outputs": [],
   "source": [
    "from sklearn.metrics import r2_score"
   ]
  },
  {
   "cell_type": "code",
   "execution_count": 473,
   "id": "a025893c-c146-4e28-8c98-2eef38ae8879",
   "metadata": {
    "tags": []
   },
   "outputs": [
    {
     "data": {
      "text/plain": [
       "0.9999789603922297"
      ]
     },
     "execution_count": 473,
     "metadata": {},
     "output_type": "execute_result"
    }
   ],
   "source": [
    "y_train_pred = model.predict(X_train)\n",
    "r2_score(Y_train, y_train_pred)"
   ]
  },
  {
   "cell_type": "code",
   "execution_count": 474,
   "id": "67298191-3d68-48f0-9c7c-6adb961a9b36",
   "metadata": {
    "tags": []
   },
   "outputs": [
    {
     "data": {
      "text/plain": [
       "0.9999793619142606"
      ]
     },
     "execution_count": 474,
     "metadata": {},
     "output_type": "execute_result"
    }
   ],
   "source": [
    "r2_score(Y_test, Y_pred) #accuracy"
   ]
  },
  {
   "cell_type": "code",
   "execution_count": 475,
   "id": "9a90f7e3-9fd8-4d47-b570-0f7073f338da",
   "metadata": {
    "tags": []
   },
   "outputs": [
    {
     "data": {
      "text/plain": [
       "Text(0, 0.5, 'Predicted values')"
      ]
     },
     "execution_count": 475,
     "metadata": {},
     "output_type": "execute_result"
    },
    {
     "data": {
      "image/png": "[encoded data removed]",
      "text/plain": [
       "<Figure size 400x400 with 1 Axes>"
      ]
     },
     "metadata": {},
     "output_type": "display_data"
    }
   ],
   "source": [
    "import matplotlib.pyplot as plt\n",
    "plt.figure(figsize=(4,4))\n",
    "plt.plot(Y_test, Y_pred)\n",
    "plt.xlabel('True values')\n",
    "plt.ylabel('Predicted values')"
   ]
  },
  {
   "cell_type": "code",
   "execution_count": 479,
   "id": "f737ff1c-e029-4677-976c-b529113bb3a2",
   "metadata": {
    "tags": []
   },
   "outputs": [
    {
     "data": {
      "text/plain": [
       "['model/numbers_model.joblib']"
      ]
     },
     "execution_count": 479,
     "metadata": {},
     "output_type": "execute_result"
    }
   ],
   "source": [
    "from joblib import dump, load\n",
    "dump(model, 'model/numbers_model.joblib')"
   ]
  },
  {
   "cell_type": "code",
   "execution_count": 480,
   "id": "3f630636-c8c6-4cbd-9d92-cb377a4d4141",
   "metadata": {
    "tags": []
   },
   "outputs": [],
   "source": [
    "saved_model = load('model/numbers_model.joblib')"
   ]
  },
  {
   "cell_type": "code",
   "execution_count": 484,
   "id": "9fa73c80-5ef3-4296-b656-1ffed6420efd",
   "metadata": {
    "tags": []
   },
   "outputs": [
    {
     "data": {
      "text/plain": [
       "[90]"
      ]
     },
     "execution_count": 484,
     "metadata": {},
     "output_type": "execute_result"
    }
   ],
   "source": [
    "saved_model.predict([[15, 22, 10]]) #answer is 89"
   ]
  },
  {
   "cell_type": "code",
   "execution_count": 488,
   "id": "a7e479e7-8ec9-4af6-b61e-f5e55b451442",
   "metadata": {
    "tags": []
   },
   "outputs": [
    {
     "data": {
      "text/plain": [
       "[61]"
      ]
     },
     "execution_count": 488,
     "metadata": {},
     "output_type": "execute_result"
    }
   ],
   "source": [
    "saved_model.predict([[7, 10, 11]]) #answer is 60"
   ]
  },
  {
   "cell_type": "code",
   "execution_count": 514,
   "id": "797b6a70-bb5b-4e8b-a500-83823867578b",
   "metadata": {
    "tags": []
   },
   "outputs": [],
   "source": [
    "model2 = Sequential()\n",
    "model2.add(Dense(3,3,activation=\"relu\"))\n",
    "model2.compile_(MSE())"
   ]
  },
  {
   "cell_type": "code",
   "execution_count": 515,
   "id": "392dee12-993a-458c-8352-f27825e4b95c",
   "metadata": {
    "tags": []
   },
   "outputs": [
    {
     "name": "stdout",
     "output_type": "stream",
     "text": [
      "Epoch 100/1000, Loss: 0.00982752828657723\n",
      "Epoch 200/1000, Loss: 0.009794861362084706\n",
      "Epoch 300/1000, Loss: 0.009775502989782367\n",
      "Epoch 400/1000, Loss: 0.009756182877224353\n",
      "Epoch 500/1000, Loss: 0.009736900948558279\n",
      "Epoch 600/1000, Loss: 0.009717657128319008\n",
      "Epoch 700/1000, Loss: 0.009698451341188769\n",
      "Epoch 800/1000, Loss: 0.009679283511999358\n",
      "Epoch 900/1000, Loss: 0.009660153565732355\n",
      "Epoch 1000/1000, Loss: 0.009641061427515777\n"
     ]
    }
   ],
   "source": [
    "model2.fit(X_train.T, Y_train, epochs=1000, learning_rate=0.0001)"
   ]
  },
  {
   "cell_type": "code",
   "execution_count": 516,
   "id": "f19f00df-67b6-4fdd-9a08-dafa2f9851f7",
   "metadata": {
    "tags": []
   },
   "outputs": [
    {
     "data": {
      "text/plain": [
       "[60]"
      ]
     },
     "execution_count": 516,
     "metadata": {},
     "output_type": "execute_result"
    }
   ],
   "source": [
    "model2.predict([[7, 10, 11]]) # 60"
   ]
  },
  {
   "cell_type": "code",
   "execution_count": 518,
   "id": "b977f263-4cb3-4240-817f-94d6b20fa962",
   "metadata": {
    "tags": []
   },
   "outputs": [
    {
     "data": {
      "text/plain": [
       "[3208]"
      ]
     },
     "execution_count": 518,
     "metadata": {},
     "output_type": "execute_result"
    }
   ],
   "source": [
    "model2.predict([[10, 100, 1000]]) # 3210"
   ]
  },
  {
   "cell_type": "code",
   "execution_count": 604,
   "id": "7eb3850e-ed4e-42a1-b84e-e171e195778f",
   "metadata": {
    "tags": []
   },
   "outputs": [
    {
     "data": {
      "text/plain": [
       "[89]"
      ]
     },
     "execution_count": 604,
     "metadata": {},
     "output_type": "execute_result"
    }
   ],
   "source": [
    "model2.predict([[15, 22, 10]]) #89"
   ]
  },
  {
   "cell_type": "code",
   "execution_count": 522,
   "id": "49b3689d-8f30-41a4-9054-80c1f3b89ab7",
   "metadata": {
    "tags": []
   },
   "outputs": [
    {
     "data": {
      "text/plain": [
       "(array([[0.99695976, 1.99706933, 2.99704085],\n",
       "        [0.99900642, 1.99904223, 2.99903292],\n",
       "        [0.99653017, 1.99665522, 2.99662272]]),\n",
       " array([[0.49263329],\n",
       "        [0.16099691],\n",
       "        [0.56224364]]))"
      ]
     },
     "execution_count": 522,
     "metadata": {},
     "output_type": "execute_result"
    }
   ],
   "source": [
    "model2.coef()"
   ]
  },
  {
   "cell_type": "code",
   "execution_count": 536,
   "id": "7ca67cd3-5f58-4b4b-8902-7d1829dfa7a4",
   "metadata": {
    "tags": []
   },
   "outputs": [],
   "source": [
    "w, b = model2.coef()"
   ]
  },
  {
   "cell_type": "code",
   "execution_count": 606,
   "id": "857038a1-7366-4ed6-8778-6e777a7909c5",
   "metadata": {
    "tags": []
   },
   "outputs": [
    {
     "data": {
      "text/plain": [
       "(array([0.99845748, 1.99851307, 2.99849862]), array([0.96333404]))"
      ]
     },
     "execution_count": 606,
     "metadata": {},
     "output_type": "execute_result"
    }
   ],
   "source": [
    "w[1], max(b)"
   ]
  },
  {
   "cell_type": "code",
   "execution_count": 605,
   "id": "86db1962-8b78-4414-b664-8191167d8926",
   "metadata": {
    "tags": []
   },
   "outputs": [
    {
     "data": {
      "text/plain": [
       "(array([1., 2., 3.]), 1.0)"
      ]
     },
     "execution_count": 605,
     "metadata": {},
     "output_type": "execute_result"
    }
   ],
   "source": [
    "np.round(w[1]), np.round(np.max(b))"
   ]
  },
  {
   "cell_type": "code",
   "execution_count": 545,
   "id": "4701a60d-8032-4c3b-851d-a8a7858d96ed",
   "metadata": {
    "tags": []
   },
   "outputs": [],
   "source": [
    "# let's try with 4 neurons"
   ]
  },
  {
   "cell_type": "code",
   "execution_count": 546,
   "id": "b8ae23a7-3c3a-42d8-8549-8ebb2e51afc4",
   "metadata": {
    "tags": []
   },
   "outputs": [],
   "source": [
    "model3 = Sequential()\n",
    "model3.add(Dense(4,3,activation=\"relu\"))\n",
    "model3.compile_(MSE())"
   ]
  },
  {
   "cell_type": "code",
   "execution_count": 547,
   "id": "c848d71d-eb92-4cff-9084-5abccc9ca9cf",
   "metadata": {
    "tags": []
   },
   "outputs": [
    {
     "name": "stdout",
     "output_type": "stream",
     "text": [
      "Epoch 100/1000, Loss: 0.017998876492139222\n",
      "Epoch 200/1000, Loss: 0.01794484488895161\n",
      "Epoch 300/1000, Loss: 0.017909379048832993\n",
      "Epoch 400/1000, Loss: 0.017873983303016004\n",
      "Epoch 500/1000, Loss: 0.017838657512657105\n",
      "Epoch 600/1000, Loss: 0.017803401539497776\n",
      "Epoch 700/1000, Loss: 0.017768215245553644\n",
      "Epoch 800/1000, Loss: 0.017733098493111436\n",
      "Epoch 900/1000, Loss: 0.017698051144729762\n",
      "Epoch 1000/1000, Loss: 0.01766307306324206\n"
     ]
    }
   ],
   "source": [
    "model3.fit(X_train.T, Y_train, epochs=1000, learning_rate=0.0001)"
   ]
  },
  {
   "cell_type": "code",
   "execution_count": 548,
   "id": "8c18f715-376d-4e7e-9f76-1d872e73823d",
   "metadata": {
    "tags": []
   },
   "outputs": [],
   "source": [
    "w, b = model3.coef()"
   ]
  },
  {
   "cell_type": "code",
   "execution_count": 550,
   "id": "b153740c-8e26-49e5-bcde-906e610347ba",
   "metadata": {
    "tags": []
   },
   "outputs": [
    {
     "data": {
      "text/plain": [
       "(array([[0.99753668, 1.99762546, 2.99760238],\n",
       "        [0.99845748, 1.99851307, 2.99849862],\n",
       "        [0.99674296, 1.99686033, 2.99682983],\n",
       "        [0.99405488, 1.99426913, 2.99421345]]),\n",
       " array([[0.39915041],\n",
       "        [0.24994634],\n",
       "        [0.52776432],\n",
       "        [0.96333404]]))"
      ]
     },
     "execution_count": 550,
     "metadata": {},
     "output_type": "execute_result"
    }
   ],
   "source": [
    "w, b"
   ]
  },
  {
   "cell_type": "code",
   "execution_count": 607,
   "id": "b7d672ad-8e60-4357-aba5-68e156a20f1a",
   "metadata": {
    "tags": []
   },
   "outputs": [
    {
     "data": {
      "text/plain": [
       "[92]"
      ]
     },
     "execution_count": 607,
     "metadata": {},
     "output_type": "execute_result"
    }
   ],
   "source": [
    "model3.predict([[15, 22, 11]]) # 92"
   ]
  },
  {
   "cell_type": "code",
   "execution_count": 573,
   "id": "e188e5f4-0682-42cf-a806-13b4909e07fd",
   "metadata": {
    "tags": []
   },
   "outputs": [
    {
     "name": "stdout",
     "output_type": "stream",
     "text": [
      "[14573, 785, 455]\n",
      "[14579, 785, 455]\n",
      "[14532, 784, 455]\n"
     ]
    }
   ],
   "source": [
    "test_input = [[2887, 5612, 163],[161, 134, 119],[21, 73, 96]]\n",
    "print(model3.predict(test_input)) \n",
    "print(model2.predict(test_input))\n",
    "print(model.predict(test_input))"
   ]
  },
  {
   "cell_type": "code",
   "execution_count": 574,
   "id": "1a008f6b-ebe7-48b8-98ec-c5ce67998c9a",
   "metadata": {
    "tags": []
   },
   "outputs": [
    {
     "data": {
      "text/plain": [
       "(14600, 786, 455)"
      ]
     },
     "execution_count": 574,
     "metadata": {},
     "output_type": "execute_result"
    }
   ],
   "source": [
    "(2887 + 5612*2 + 163*3), (161 + 134*2 + 119*3), (21 + 73*2 + 96*3)"
   ]
  },
  {
   "cell_type": "code",
   "execution_count": 612,
   "id": "e6be4245-6c74-4317-a506-b6f309db6ca5",
   "metadata": {
    "tags": []
   },
   "outputs": [
    {
     "data": {
      "text/plain": [
       "['model/numbers-model-v2.joblib']"
      ]
     },
     "execution_count": 612,
     "metadata": {},
     "output_type": "execute_result"
    }
   ],
   "source": [
    "joblib.dump(model2, 'model/numbers-model-v2.joblib')"
   ]
  },
  {
   "cell_type": "code",
   "execution_count": 577,
   "id": "7e9970a0-1843-4160-ab29-93e5adf374aa",
   "metadata": {
    "tags": []
   },
   "outputs": [],
   "source": [
    "saved_model2 = joblib.load('model/numbers-model-v2.joblib')"
   ]
  },
  {
   "cell_type": "code",
   "execution_count": 610,
   "id": "6f8b24db-efd5-4894-b215-8bc2d2999163",
   "metadata": {
    "tags": []
   },
   "outputs": [
    {
     "data": {
      "text/plain": [
       "[348]"
      ]
     },
     "execution_count": 610,
     "metadata": {},
     "output_type": "execute_result"
    }
   ],
   "source": [
    "saved_model2.predict([[43, 64, 59]]) # 348"
   ]
  },
  {
   "cell_type": "code",
   "execution_count": 594,
   "id": "32c7e184-1027-485f-88a4-98a08bea3c05",
   "metadata": {
    "tags": []
   },
   "outputs": [
    {
     "data": {
      "text/plain": [
       "(1.0, 0.9999999125504841)"
      ]
     },
     "execution_count": 594,
     "metadata": {},
     "output_type": "execute_result"
    }
   ],
   "source": [
    "r2_score(Y_test, model2.predict(X_test)), r2_score(Y_test, model3.predict(X_test))"
   ]
  },
  {
   "cell_type": "code",
   "execution_count": 602,
   "id": "35bfb7ee-5b14-4b9b-af54-a4be62c01770",
   "metadata": {
    "tags": []
   },
   "outputs": [
    {
     "data": {
      "text/plain": [
       "(46443, array([6203, 8357, 7842]))"
      ]
     },
     "execution_count": 602,
     "metadata": {},
     "output_type": "execute_result"
    }
   ],
   "source": [
    "test_samples = generate_random_samples(100, 5000, 10000)\n",
    "m = np.array([1, 2, 3])\n",
    "y_high_test = np.sum(test_samples * m, axis=1)\n",
    "y_high_test[0], test_samples[0]"
   ]
  },
  {
   "cell_type": "code",
   "execution_count": 603,
   "id": "3db25303-a3da-4f57-b52b-7f2d38d205e6",
   "metadata": {
    "tags": []
   },
   "outputs": [
    {
     "data": {
      "text/plain": [
       "(0.9998934791509899, 0.9998140506855663)"
      ]
     },
     "execution_count": 603,
     "metadata": {},
     "output_type": "execute_result"
    }
   ],
   "source": [
    "r2_score(y_high_test, model2.predict(test_samples)), r2_score(y_high_test, model3.predict(test_samples))"
   ]
  },
  {
   "cell_type": "code",
   "execution_count": 597,
   "id": "88b9377c-5164-4aec-90e3-0d92685acbbd",
   "metadata": {
    "tags": []
   },
   "outputs": [],
   "source": [
    "# Even with higher numbers model 2 perform better"
   ]
  }
 ],
 "metadata": {
  "kernelspec": {
   "display_name": "Python 3 (ipykernel)",
   "language": "python",
   "name": "python3"
  },
  "language_info": {
   "codemirror_mode": {
    "name": "ipython",
    "version": 3
   },
   "file_extension": ".py",
   "mimetype": "text/x-python",
   "name": "python",
   "nbconvert_exporter": "python",
   "pygments_lexer": "ipython3",
   "version": "3.11.5"
  }
 },
 "nbformat": 4,
 "nbformat_minor": 5
}
